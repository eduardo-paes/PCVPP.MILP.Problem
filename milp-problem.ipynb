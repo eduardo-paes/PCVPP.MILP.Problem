{
 "cells": [
  {
   "cell_type": "code",
   "execution_count": null,
   "id": "20074a1a-0396-42ef-822f-d4378f44f8a3",
   "metadata": {},
   "outputs": [],
   "source": [
    "# Imports\n",
    "import sys\n",
    "import gurobipy as gp\n",
    "import numpy as np"
   ]
  },
  {
   "cell_type": "code",
   "execution_count": null,
   "id": "b9f05f4c-ab03-49af-aec4-f1165d4781e0",
   "metadata": {},
   "outputs": [],
   "source": [
    "# Parameters (Valus of Instance 1)\n",
    "NUM_VAGOES = 2\n",
    "NUM_TRECHOS = 6\n",
    "NUM_ATIVIDADES = 15\n",
    "NUM_TRENS = 2\n",
    "P = 5 # tempo de circulação de um vagão j em um trecho q\n",
    "M = 2880\n",
    "VAGOES_TREM_SAIDA = [1,1] #[2,2]\n",
    "VAGOES_TREM_CHEGADA = [0,0] #[1,1]"
   ]
  },
  {
   "cell_type": "code",
   "execution_count": null,
   "id": "35256be1-0469-4ed9-965c-c11be6e2d414",
   "metadata": {},
   "outputs": [],
   "source": [
    "# Generate AMV\n",
    "# AMV[q,s] = 1 se o trecho q é ligado ao trecho s (q vizinho de s ou existe AMV entre q e s); 0 caso contrário\n",
    "AMV = [[1,1,0,0,0,0],\n",
    "       [1,1,1,0,1,0],\n",
    "       [0,1,1,1,0,0],\n",
    "       [0,0,1,1,0,0],\n",
    "       [0,1,0,0,1,1],\n",
    "       [0,0,0,0,1,1]]"
   ]
  },
  {
   "cell_type": "code",
   "execution_count": null,
   "id": "3d2d51e7-b2e7-42e7-b8a1-94885db0e1af",
   "metadata": {},
   "outputs": [],
   "source": [
    "# Generate PSA\n",
    "# PSA[j] = trecho do pátio onde o vagão j deverá estar posicionado para que o trem t ∈ Tβ |j ∈ t possa sair\n",
    "PSA = [1,2]"
   ]
  },
  {
   "cell_type": "code",
   "execution_count": null,
   "id": "9f1d99cb-e3e7-47b5-ad09-48cd16da1732",
   "metadata": {},
   "outputs": [],
   "source": [
    "# Generate PCH\n",
    "# PCH[j] = trecho do pátio onde o vagão j estará posicionado ao receber o trem t ∈ Tα|j ∈ t\n",
    "PCH = [2,1]"
   ]
  },
  {
   "cell_type": "code",
   "execution_count": null,
   "id": "1feb0da8-1fd6-4dd2-b12e-9195481ef246",
   "metadata": {},
   "outputs": [],
   "source": [
    "# Generate Release\n",
    "# RELEASE[j] = instante mais cedo que o vagão j está disponível para entrar no pátio (release date), ou seja, horário de chegada do trem t ∈ Tα|j ∈ t\n",
    "RELEASE = [10,10]"
   ]
  },
  {
   "cell_type": "code",
   "execution_count": null,
   "id": "2641e6fc-e818-487d-9e79-3bd55b3dd53e",
   "metadata": {},
   "outputs": [],
   "source": [
    "# Simplify instances informed values\n",
    "n = NUM_VAGOES\n",
    "m = NUM_TRECHOS\n",
    "o = NUM_ATIVIDADES\n",
    "v = NUM_TRENS\n",
    "t_beta = VAGOES_TREM_SAIDA\n",
    "t_alfa = VAGOES_TREM_CHEGADA"
   ]
  },
  {
   "cell_type": "code",
   "execution_count": null,
   "id": "74c33757-20e4-43bd-9e45-8230c0f60e75",
   "metadata": {},
   "outputs": [],
   "source": [
    "# Initialize model\n",
    "model = gp.Model(\"milp\")"
   ]
  },
  {
   "cell_type": "code",
   "execution_count": null,
   "id": "9788f9df",
   "metadata": {},
   "outputs": [],
   "source": [
    "# Declare decision variables\n",
    "var_y = model.addVars(o,n, vtype=gp.GRB.CONTINUOUS, name=\"y\")         ## y[i,j] = instante de início da i-ésima operação do vagão j\n",
    "var_z = model.addVars(o,m,n, vtype=gp.GRB.BINARY, name=\"z\")           ## z[i,q,j] = 1 se a i-ésima operação do vagão j acontece no trecho q; 0 caso contrário\n",
    "var_x = model.addVars(m,o,n,o,n, vtype=gp.GRB.BINARY, name=\"x\")       ## x[q,i,j,k,l] = 1 se a i-ésima operação do vagão j precede a k-ésima operação do vagão l no trecho q; 0 caso contrário\n",
    "var_f = model.addVars(o,n, vtype=gp.GRB.BINARY, name=\"f\")             ## f[i,j] = 1 se a i-ésima operação do vagão j é a última, antes da partida do trem t ∈ Tβ |j ∈ t; 0 caso contrário\n",
    "var_c = model.addVars(n, vtype=gp.GRB.CONTINUOUS, name=\"c\")           ## C[j] = instante de conclusão do vagão j, horário de partida do trem t ∈ Tβ|j ∈ t\n",
    "var_c_max = model.addVar(vtype=gp.GRB.CONTINUOUS, name=\"c_max\")       ## Cmax = horário da partida do último vagão j ∈ t, t ∈ Tβ (makespan)"
   ]
  },
  {
   "cell_type": "code",
   "execution_count": null,
   "id": "77cca61e-830d-475b-ad57-9db9fd578fc5",
   "metadata": {},
   "outputs": [],
   "source": [
    "# Define objective function\n",
    "model.setObjective(var_c_max, gp.GRB.MINIMIZE)"
   ]
  },
  {
   "cell_type": "code",
   "execution_count": null,
   "id": "f12ef3df-acd2-4574-8519-31cf79ab848d",
   "metadata": {},
   "outputs": [],
   "source": [
    "# Equation 2\n",
    "for j in range(n):\n",
    "  for i in range(o):\n",
    "    if (i+1 < o):\n",
    "      model.addConstr\n",
    "      (\n",
    "        var_y[i+1,j] \n",
    "        >= var_y[i,j] \n",
    "        + (P * gp.quicksum(var_z[i,q,j] for q in range(m)))\n",
    "      )"
   ]
  },
  {
   "cell_type": "code",
   "execution_count": null,
   "id": "c130d33a-ed5b-41fc-af3b-590b9dbf64b0",
   "metadata": {},
   "outputs": [],
   "source": [
    "# Equation 3\n",
    "for j in range(n):\n",
    "  for l in range(n):\n",
    "    for i in range(o):\n",
    "      for k in range(o):\n",
    "        for q in range(m):\n",
    "          if (i+1 < o):\n",
    "            model.addConstr\n",
    "            (\n",
    "              var_y[i+1,j] \n",
    "              >= var_y[k,l]\n",
    "              - (M * var_x[q,i,j,k,l])\n",
    "              - (M * (1 - var_z[i,q,j]))\n",
    "              - (M * (1 - var_z[k,q,l]))\n",
    "            )"
   ]
  },
  {
   "cell_type": "code",
   "execution_count": null,
   "id": "607fff69-9826-4c00-b86e-a2793b947d4f",
   "metadata": {},
   "outputs": [],
   "source": [
    "# Equation 4\n",
    "for j in range(n):\n",
    "  for l in range(n):\n",
    "    for i in range(o):\n",
    "      for k in range(o):\n",
    "        for q in range(m):\n",
    "          if (i+1 < o):\n",
    "            model.addConstr\n",
    "            (\n",
    "              var_y[k,l] \n",
    "              >= var_y[i+1,j]\n",
    "              - (M * (1 - var_x[q,i,j,k,l]))\n",
    "              - (M * (1 - var_z[i,q,j]))\n",
    "              - (M * (1 - var_z[k,q,l]))\n",
    "            )"
   ]
  },
  {
   "cell_type": "code",
   "execution_count": null,
   "id": "c4fc59f8-0647-4367-8138-f813a01c3249",
   "metadata": {},
   "outputs": [],
   "source": [
    "# Equation 5\n",
    "for j in range(n):\n",
    "  for i in range(o):\n",
    "    if (i == 0):\n",
    "      model.addConstr\n",
    "      (\n",
    "        gp.quicksum(var_z[i,q,j] for q in range(m))\n",
    "        <= 1\n",
    "      )"
   ]
  },
  {
   "cell_type": "code",
   "execution_count": null,
   "id": "0c9dada2-6869-44ee-87d0-f8c0fbd47344",
   "metadata": {},
   "outputs": [],
   "source": [
    "# Equation 6\n",
    "for j in range(n):\n",
    "  for l in range(n):\n",
    "    for i in range(o): \n",
    "      for k in range(o):\n",
    "        for q in range(m):\n",
    "          if (k-1 > 0 and i+1 < o and j != l):\n",
    "            model.addConstr\n",
    "            (\n",
    "              var_x[q,i,j,k,l] \n",
    "              + gp.quicksum(var_x[s,k-1,l,i+1,j] for s in range(m))\n",
    "              <= 1\n",
    "            )"
   ]
  },
  {
   "cell_type": "code",
   "execution_count": null,
   "id": "1ec0cccf-e2fc-473d-bfd6-70cab2be6156",
   "metadata": {},
   "outputs": [],
   "source": [
    "# Equation 7\n",
    "for j in range(n):\n",
    "  for l in range(n):\n",
    "    for i in range(o): \n",
    "      for k in range(o):\n",
    "        for q in range(m):\n",
    "          if (j != l):\n",
    "            model.addConstr\n",
    "            (\n",
    "              var_x[q,i,j,k,l] \n",
    "              + var_x[q,k,l,i,j] \n",
    "              >= 1\n",
    "              - (M * (1 - var_z[i,q,j]))\n",
    "              - (M * (1 - var_z[k,q,l]))\n",
    "            )"
   ]
  },
  {
   "cell_type": "code",
   "execution_count": null,
   "id": "0eb5481a-9b23-43a9-8e19-1b2f3ba7c6f0",
   "metadata": {},
   "outputs": [],
   "source": [
    "# Equation 8\n",
    "for j in range(n):\n",
    "  for i in range(o):\n",
    "    if (i-1 > 0):\n",
    "      model.addConstr\n",
    "      (\n",
    "        gp.quicksum(var_z[i,q,j] for q in range(m))\n",
    "        == 1\n",
    "        - gp.quicksum(var_f[k,j] for k in range(i-1))\n",
    "      )"
   ]
  },
  {
   "cell_type": "code",
   "execution_count": null,
   "id": "8aeb6a13-087e-42c5-b29d-ee28da140901",
   "metadata": {},
   "outputs": [],
   "source": [
    "# Equation 9\n",
    "for j in t_beta:\n",
    "  for i in range(o):\n",
    "    model.addConstr(var_f[i,j] <= var_z[i,PSA[j],j])"
   ]
  },
  {
   "cell_type": "code",
   "execution_count": null,
   "id": "e330b5e5-1981-4296-a70c-9f68995ec7c9",
   "metadata": {},
   "outputs": [],
   "source": [
    "# Equation 10\n",
    "for j in t_beta:\n",
    "  model.addConstr(gp.quicksum(var_f[i,j] for i in range(o)) == 1)"
   ]
  },
  {
   "cell_type": "code",
   "execution_count": null,
   "id": "f25a906e-4356-487a-931f-9ef38f9aaded",
   "metadata": {},
   "outputs": [],
   "source": [
    "# Equation 11\n",
    "for j in t_alfa:\n",
    "  model.addConstr(gp.quicksum(var_f[i,j] for i in range(o)) == 0)"
   ]
  },
  {
   "cell_type": "code",
   "execution_count": null,
   "id": "4e622992-f31a-4d3d-a61f-79ed27fa1be6",
   "metadata": {},
   "outputs": [],
   "source": [
    "# Equation 12\n",
    "for j in range(n):\n",
    "  for i in range(o):\n",
    "    for q in range(m):\n",
    "      if (i == 0 and q == PCH[j]):\n",
    "        model.addConstr(var_z[i,q,j] == 1)"
   ]
  },
  {
   "cell_type": "code",
   "execution_count": null,
   "id": "b5b7daef-3f67-45ed-8698-ec4f6fee927d",
   "metadata": {},
   "outputs": [],
   "source": [
    "# Equation 13\n",
    "for j in t_beta:\n",
    "  for i in range(o):\n",
    "    if (i == 0):\n",
    "      model.addConstr(var_y[i,j] == RELEASE[j])"
   ]
  },
  {
   "cell_type": "code",
   "execution_count": null,
   "id": "7d2fcc3c-fb12-4023-9147-4b6d0306db19",
   "metadata": {},
   "outputs": [],
   "source": [
    "# Equation 14\n",
    "for j in t_beta:\n",
    "  for i in range(o):\n",
    "    if (i == 0):\n",
    "      model.addConstr(var_y[i,j] >= RELEASE[j])"
   ]
  },
  {
   "cell_type": "code",
   "execution_count": null,
   "id": "5a3feca3-17c7-4cf9-9160-458e497780b5",
   "metadata": {},
   "outputs": [],
   "source": [
    "# Equation 15\n",
    "for j in t_alfa:\n",
    "  for l in t_alfa:\n",
    "    for i in range(o):\n",
    "      if (i == 0):\n",
    "        model.addConstr(var_y[i,j] == var_y[i,l])"
   ]
  },
  {
   "cell_type": "code",
   "execution_count": null,
   "id": "e82704ea-298e-4152-9d49-4aaded25ac60",
   "metadata": {},
   "outputs": [],
   "source": [
    "# Equation 16\n",
    "for j in range(n):\n",
    "  for i in range(o):\n",
    "    for q in range(m):\n",
    "      if (i+1 < o):\n",
    "        model.addConstr(var_z[i+1,q,j] <= gp.quicksum(AMV[s][q] * var_z[i,s,j] for s in range(m)))"
   ]
  },
  {
   "cell_type": "code",
   "execution_count": null,
   "id": "9c62ccb2-b4e9-4705-9242-636032bddda1",
   "metadata": {},
   "outputs": [],
   "source": [
    "# Equation 17\n",
    "for j in t_beta:\n",
    "  for l in t_beta:\n",
    "    for i in range(o):\n",
    "      model.addConstr(var_c[j] >= var_y[i,l])"
   ]
  },
  {
   "cell_type": "code",
   "execution_count": null,
   "id": "765288a0-06fa-43d7-b0ae-21e3936c539b",
   "metadata": {},
   "outputs": [],
   "source": [
    "# Equation 18\n",
    "for j in t_alfa:\n",
    "  for i in range(o):\n",
    "    if (i == 0):\n",
    "      model.addConstr(var_c[j] >= var_y[i,j])"
   ]
  },
  {
   "cell_type": "code",
   "execution_count": null,
   "id": "c774877f-42ae-431c-896c-db5925bcf1a3",
   "metadata": {},
   "outputs": [],
   "source": [
    "# Equation 19\n",
    "for j in range(n):\n",
    "  for i in range(o):\n",
    "    if (i+1 < o):\n",
    "      model.addConstr\n",
    "      (\n",
    "        var_y[i+1,j]\n",
    "        >= var_c[j] \n",
    "        - M \n",
    "        * (1 - gp.quicksum(var_f[k,j] for k in range(i)))\n",
    "      )"
   ]
  },
  {
   "cell_type": "code",
   "execution_count": null,
   "id": "512affbb-3cb6-4f6b-bfb7-ec275e148732",
   "metadata": {},
   "outputs": [],
   "source": [
    "# Equation 20\n",
    "for j in t_beta:\n",
    "  model.addConstr(var_c_max >= var_c[j])"
   ]
  },
  {
   "cell_type": "code",
   "execution_count": null,
   "id": "ebe28463-3428-471e-a62d-3bededc1a51a",
   "metadata": {},
   "outputs": [],
   "source": [
    "# Execute model\n",
    "model.optimize()"
   ]
  },
  {
   "cell_type": "code",
   "execution_count": null,
   "id": "2946e8d5",
   "metadata": {},
   "outputs": [],
   "source": [
    "# Print the values of all variables\n",
    "for v in model.getVars():\n",
    "    print(f\"{v.VarName} = {v.X}\")"
   ]
  }
 ],
 "metadata": {
  "kernelspec": {
   "display_name": "base",
   "language": "python",
   "name": "python3"
  },
  "language_info": {
   "codemirror_mode": {
    "name": "ipython",
    "version": 3
   },
   "file_extension": ".py",
   "mimetype": "text/x-python",
   "name": "python",
   "nbconvert_exporter": "python",
   "pygments_lexer": "ipython3",
   "version": "3.9.13"
  },
  "vscode": {
   "interpreter": {
    "hash": "c90818a9e75c05a80397462c9eccb4fd29d99584fd06c16972c458369e729be9"
   }
  }
 },
 "nbformat": 4,
 "nbformat_minor": 5
}
