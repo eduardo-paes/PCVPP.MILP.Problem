{
 "cells": [
  {
   "attachments": {},
   "cell_type": "markdown",
   "id": "7381e17f",
   "metadata": {},
   "source": [
    "## Importação do Gurobi"
   ]
  },
  {
   "cell_type": "code",
   "execution_count": 27,
   "id": "20074a1a-0396-42ef-822f-d4378f44f8a3",
   "metadata": {},
   "outputs": [],
   "source": [
    "import gurobipy as gp"
   ]
  },
  {
   "attachments": {},
   "cell_type": "markdown",
   "id": "dec0458e",
   "metadata": {},
   "source": [
    "## Parâmetros da Instância 1"
   ]
  },
  {
   "cell_type": "code",
   "execution_count": 28,
   "id": "b9f05f4c-ab03-49af-aec4-f1165d4781e0",
   "metadata": {},
   "outputs": [],
   "source": [
    "# NUM_VAGOES\n",
    "n = 2           \n",
    "# NUM_TRECHOS\n",
    "m = 6           \n",
    "# NUM_ATIVIDADES\n",
    "o = 15          \n",
    "# NUM_TRENS\n",
    "v = 2           \n",
    "# Tempo de circulação de um vagão j em um trecho q\n",
    "P = 5           \n",
    "# Número grande o suficiente\n",
    "M = 2880        \n",
    "# VAGOES_TREM_SAIDA\n",
    "TRAIN_OUT = [1,1]  \n",
    "# VAGOES_TREM_CHEGADA\n",
    "TRAIN_IN = [0,0]  \n",
    "# AMV[q,s] = 1 se o trecho q é ligado ao trecho s (q vizinho de s ou existe AMV entre q e s); 0 caso contrário\n",
    "AMV = [[1,1,0,0,0,0],\n",
    "       [1,1,1,0,1,0],\n",
    "       [0,1,1,1,0,0],\n",
    "       [0,0,1,1,0,0],\n",
    "       [0,1,0,0,1,1],\n",
    "       [0,0,0,0,1,1]]   \n",
    "# PCH[j] = trecho do pátio onde o vagão j estará posicionado ao receber o trem t ∈ Tα|j ∈ t\n",
    "PCH = [2,1]\n",
    "# PSA[j] = trecho do pátio onde o vagão j deverá estar posicionado para que o trem t ∈ Tβ |j ∈ t possa sair\n",
    "PSA = [1,2]\n",
    "# RELEASE[j] = instante mais cedo que o vagão j está disponível para entrar no pátio (release date), ou seja, horário de chegada do trem t ∈ Tα|j ∈ t\n",
    "RELEASE = [10,10]"
   ]
  },
  {
   "attachments": {},
   "cell_type": "markdown",
   "id": "e6ac702d",
   "metadata": {},
   "source": [
    "## Definição de Modelo MILP"
   ]
  },
  {
   "cell_type": "code",
   "execution_count": 29,
   "id": "74c33757-20e4-43bd-9e45-8230c0f60e75",
   "metadata": {},
   "outputs": [],
   "source": [
    "model = gp.Model(\"milp\")"
   ]
  },
  {
   "attachments": {},
   "cell_type": "markdown",
   "id": "7281d013",
   "metadata": {},
   "source": [
    "## Variáveis de Decisão"
   ]
  },
  {
   "cell_type": "code",
   "execution_count": 30,
   "id": "9788f9df",
   "metadata": {},
   "outputs": [],
   "source": [
    "# y[i,j] = instante de início da i-ésima operação do vagão j\n",
    "y = model.addVars(o,n, vtype=gp.GRB.CONTINUOUS, name=\"y\")         \n",
    "# z[i,q,j] = 1 se a i-ésima operação do vagão j acontece no trecho q; 0 caso contrário\n",
    "z = model.addVars(o,m,n, vtype=gp.GRB.BINARY, name=\"z\")           \n",
    "# x[q,i,j,k,l] = 1 se a i-ésima operação do vagão j precede a k-ésima operação do vagão l no trecho q; 0 caso contrário\n",
    "x = model.addVars(m,o,n,o,n, vtype=gp.GRB.BINARY, name=\"x\")       \n",
    "# f[i,j] = 1 se a i-ésima operação do vagão j é a última, antes da partida do trem t ∈ Tβ |j ∈ t; 0 caso contrário\n",
    "f = model.addVars(o,n, vtype=gp.GRB.BINARY, name=\"f\")             \n",
    "# c[j] = instante de conclusão do vagão j, horário de partida do trem t ∈ Tβ|j ∈ t\n",
    "c = model.addVars(n, vtype=gp.GRB.CONTINUOUS, name=\"c\")           \n",
    "# c_max = horário da partida do último vagão j ∈ t, t ∈ Tβ (makespan)\n",
    "c_max = model.addVar(vtype=gp.GRB.CONTINUOUS, name=\"c_max\")       "
   ]
  },
  {
   "attachments": {},
   "cell_type": "markdown",
   "id": "c262e314",
   "metadata": {},
   "source": [
    "## Função Objetivo"
   ]
  },
  {
   "cell_type": "code",
   "execution_count": 31,
   "id": "77cca61e-830d-475b-ad57-9db9fd578fc5",
   "metadata": {},
   "outputs": [],
   "source": [
    "model.setObjective(c_max, gp.GRB.MINIMIZE)"
   ]
  },
  {
   "attachments": {},
   "cell_type": "markdown",
   "id": "68d31613",
   "metadata": {},
   "source": [
    "## Restrições do Problema"
   ]
  },
  {
   "cell_type": "code",
   "execution_count": 32,
   "id": "f12ef3df-acd2-4574-8519-31cf79ab848d",
   "metadata": {},
   "outputs": [],
   "source": [
    "# Equação 2 / (4-2)\n",
    "for j in range(n):\n",
    "  for i in range(o-1):\n",
    "    model.addConstr\n",
    "    (\n",
    "      y[i+1,j] \n",
    "      >= y[i,j] \n",
    "      + (P * gp.quicksum(z[i,q,j] for q in range(m)))\n",
    "    )"
   ]
  },
  {
   "cell_type": "code",
   "execution_count": 33,
   "id": "c130d33a-ed5b-41fc-af3b-590b9dbf64b0",
   "metadata": {},
   "outputs": [],
   "source": [
    "# Equação 3\n",
    "for j in range(n):\n",
    "  for l in range(n):\n",
    "    for i in range(o-1):\n",
    "      for k in range(o):\n",
    "        for q in range(m):\n",
    "          model.addConstr\n",
    "          (\n",
    "            y[i+1,j] \n",
    "            >= y[k,l]\n",
    "            - (M * x[q,i,j,k,l])\n",
    "            - (M * (1 - z[i,q,j]))\n",
    "            - (M * (1 - z[k,q,l]))\n",
    "          )"
   ]
  },
  {
   "cell_type": "code",
   "execution_count": 34,
   "id": "607fff69-9826-4c00-b86e-a2793b947d4f",
   "metadata": {},
   "outputs": [],
   "source": [
    "# Equação 4 / (4-8)\n",
    "for j in range(n):\n",
    "  for l in range(n):\n",
    "    for i in range(o-1):\n",
    "      for k in range(o):\n",
    "        for q in range(m):\n",
    "          model.addConstr(y[k,l] >= y[i+1,j] - (M * (1 - x[q,i,j,k,l])) - (M * (1 - z[i,q,j])) - (M * (1 - z[k,q,l])))"
   ]
  },
  {
   "cell_type": "code",
   "execution_count": 35,
   "id": "c4fc59f8-0647-4367-8138-f813a01c3249",
   "metadata": {},
   "outputs": [],
   "source": [
    "# Equação 5 / (4-4)\n",
    "for j in range(n):\n",
    "  model.addConstr(gp.quicksum(z[0,q,j] for q in range(m)) <= 1)"
   ]
  },
  {
   "cell_type": "code",
   "execution_count": 36,
   "id": "0c9dada2-6869-44ee-87d0-f8c0fbd47344",
   "metadata": {},
   "outputs": [],
   "source": [
    "# Equação 6 / (4-10)\n",
    "for j in range(n):\n",
    "  for l in range(n):\n",
    "    if (j != l):\n",
    "      for i in range(o-1): \n",
    "        for k in range(o):\n",
    "          if (k > 0):\n",
    "            for q in range(m):\n",
    "              model.addConstr(x[q,i,j,k,l] + gp.quicksum(x[s,k-1,l,i+1,j] for s in range(m)) <= 1)"
   ]
  },
  {
   "cell_type": "code",
   "execution_count": 55,
   "id": "1ec0cccf-e2fc-473d-bfd6-70cab2be6156",
   "metadata": {},
   "outputs": [],
   "source": [
    "# Equação 7 / (4-9)\n",
    "for j in range(n):\n",
    "  for l in range(n):\n",
    "    if (j != l):\n",
    "      for i in range(o): \n",
    "        for k in range(o):\n",
    "          for q in range(m):\n",
    "            model.addConstr(x[q,i,j,k,l] + x[q,k,l,i,j] >= 1 - (M * (1 - z[i,q,j])) - (M * (1 - z[k,q,l])))"
   ]
  },
  {
   "cell_type": "code",
   "execution_count": 38,
   "id": "0eb5481a-9b23-43a9-8e19-1b2f3ba7c6f0",
   "metadata": {},
   "outputs": [],
   "source": [
    "# Equação 8 / (4-3)\n",
    "for j in range(n):\n",
    "  for i in range(o):\n",
    "    if (i > 1):\n",
    "      model.addConstr\n",
    "      (\n",
    "        gp.quicksum(z[i,q,j] for q in range(m))\n",
    "        == 1\n",
    "        - gp.quicksum(f[k,j] for k in range(i-1))\n",
    "      )"
   ]
  },
  {
   "cell_type": "code",
   "execution_count": 39,
   "id": "8aeb6a13-087e-42c5-b29d-ee28da140901",
   "metadata": {},
   "outputs": [],
   "source": [
    "# Equação 9 / (4-7)\n",
    "for j in TRAIN_OUT:\n",
    "  for i in range(o):\n",
    "    model.addConstr(f[i,j] <= z[i,PSA[j],j])"
   ]
  },
  {
   "cell_type": "code",
   "execution_count": 40,
   "id": "e330b5e5-1981-4296-a70c-9f68995ec7c9",
   "metadata": {},
   "outputs": [],
   "source": [
    "# Equação 10 / (4-5)\n",
    "for j in TRAIN_OUT:\n",
    "  model.addConstr(gp.quicksum(f[i,j] for i in range(o)) == 1)"
   ]
  },
  {
   "cell_type": "code",
   "execution_count": 41,
   "id": "f25a906e-4356-487a-931f-9ef38f9aaded",
   "metadata": {},
   "outputs": [],
   "source": [
    "# Equação 11 / (4-6)\n",
    "for j in TRAIN_IN:\n",
    "  model.addConstr(gp.quicksum(f[i,j] for i in range(o)) == 0)"
   ]
  },
  {
   "cell_type": "code",
   "execution_count": 42,
   "id": "4e622992-f31a-4d3d-a61f-79ed27fa1be6",
   "metadata": {},
   "outputs": [],
   "source": [
    "# Equação 12 / (4-12)\n",
    "for j in range(n):\n",
    "  model.addConstr(z[0,PCH[j],j] == 1)"
   ]
  },
  {
   "cell_type": "code",
   "execution_count": 43,
   "id": "b5b7daef-3f67-45ed-8698-ec4f6fee927d",
   "metadata": {},
   "outputs": [],
   "source": [
    "# Equação 13 / (4-13)\n",
    "for j in TRAIN_OUT:\n",
    "  model.addConstr(y[0,j] == RELEASE[j])"
   ]
  },
  {
   "cell_type": "code",
   "execution_count": 44,
   "id": "7d2fcc3c-fb12-4023-9147-4b6d0306db19",
   "metadata": {},
   "outputs": [],
   "source": [
    "# Equação 14 / (4-14)\n",
    "for j in TRAIN_OUT:\n",
    "  model.addConstr(y[0,j] >= RELEASE[j])"
   ]
  },
  {
   "cell_type": "code",
   "execution_count": 45,
   "id": "5a3feca3-17c7-4cf9-9160-458e497780b5",
   "metadata": {},
   "outputs": [],
   "source": [
    "# Equação 15 / (4-15)\n",
    "for j in TRAIN_IN:\n",
    "  for l in TRAIN_IN:\n",
    "    model.addConstr(y[0,j] == y[0,l])"
   ]
  },
  {
   "cell_type": "code",
   "execution_count": 46,
   "id": "e82704ea-298e-4152-9d49-4aaded25ac60",
   "metadata": {},
   "outputs": [],
   "source": [
    "# Equação 16 / (4-11)\n",
    "for j in range(n):\n",
    "  for i in range(o-1):\n",
    "    for q in range(m):\n",
    "      model.addConstr(z[i+1,q,j] <= gp.quicksum(AMV[s][q] * z[i,s,j] for s in range(m)))"
   ]
  },
  {
   "cell_type": "code",
   "execution_count": 47,
   "id": "9c62ccb2-b4e9-4705-9242-636032bddda1",
   "metadata": {},
   "outputs": [],
   "source": [
    "# Equação 17 / (4-16)\n",
    "for j in TRAIN_OUT:\n",
    "  for l in TRAIN_OUT:\n",
    "    for i in range(o):\n",
    "      model.addConstr(c[j] >= y[i,l])"
   ]
  },
  {
   "cell_type": "code",
   "execution_count": 48,
   "id": "765288a0-06fa-43d7-b0ae-21e3936c539b",
   "metadata": {},
   "outputs": [],
   "source": [
    "# Equação 18 / (4-17)\n",
    "for j in TRAIN_IN:\n",
    "  model.addConstr(c[j] >= y[o-1,j])"
   ]
  },
  {
   "cell_type": "code",
   "execution_count": 49,
   "id": "c774877f-42ae-431c-896c-db5925bcf1a3",
   "metadata": {},
   "outputs": [],
   "source": [
    "# Equação 19 / (4-18)\n",
    "for j in range(n):\n",
    "  for i in range(o-1):\n",
    "    model.addConstr(y[i+1,j] >= c[j] - M * (1 - gp.quicksum(f[k,j] for k in range(i))))"
   ]
  },
  {
   "cell_type": "code",
   "execution_count": 50,
   "id": "512affbb-3cb6-4f6b-bfb7-ec275e148732",
   "metadata": {},
   "outputs": [],
   "source": [
    "# Equação 20 / (4-19)\n",
    "for j in TRAIN_OUT:\n",
    "  model.addConstr(c_max >= c[j])"
   ]
  },
  {
   "attachments": {},
   "cell_type": "markdown",
   "id": "f54680ea",
   "metadata": {},
   "source": [
    "## Otimização do Problema"
   ]
  },
  {
   "cell_type": "code",
   "execution_count": 51,
   "id": "ebe28463-3428-471e-a62d-3bededc1a51a",
   "metadata": {},
   "outputs": [
    {
     "name": "stdout",
     "output_type": "stream",
     "text": [
      "Gurobi Optimizer version 9.5.2 build v9.5.2rc0 (mac64[rosetta2])\n",
      "Thread count: 8 physical cores, 8 logical processors, using up to 8 threads\n",
      "Optimize a model with 278 rows, 5643 columns and 882 nonzeros\n",
      "Model fingerprint: 0xc2b6a3ee\n",
      "Variable types: 33 continuous, 5610 integer (5610 binary)\n",
      "Coefficient statistics:\n",
      "  Matrix range     [1e+00, 1e+00]\n",
      "  Objective range  [1e+00, 1e+00]\n",
      "  Bounds range     [1e+00, 1e+00]\n",
      "  RHS range        [1e+00, 1e+01]\n",
      "Found heuristic solution: objective 10.0000000\n",
      "Presolve removed 278 rows and 5643 columns\n",
      "Presolve time: 0.00s\n",
      "Presolve: All rows and columns removed\n",
      "\n",
      "Explored 0 nodes (0 simplex iterations) in 0.03 seconds (0.00 work units)\n",
      "Thread count was 1 (of 8 available processors)\n",
      "\n",
      "Solution count 1: 10 \n",
      "\n",
      "Optimal solution found (tolerance 1.00e-04)\n",
      "Best objective 1.000000000000e+01, best bound 1.000000000000e+01, gap 0.0000%\n"
     ]
    }
   ],
   "source": [
    "# Execute model\n",
    "model.optimize()"
   ]
  },
  {
   "attachments": {},
   "cell_type": "markdown",
   "id": "e7a7b05d",
   "metadata": {},
   "source": [
    "## Resultados Encontrados"
   ]
  },
  {
   "cell_type": "code",
   "execution_count": 54,
   "id": "2946e8d5",
   "metadata": {},
   "outputs": [
    {
     "name": "stdout",
     "output_type": "stream",
     "text": [
      "y[0,1] = 10.0\n",
      "z[0,1,1] = 1.0\n",
      "z[0,2,0] = 1.0\n",
      "z[1,0,1] = 1.0\n",
      "z[1,1,0] = 1.0\n",
      "z[1,1,1] = 1.0\n",
      "z[1,2,0] = 1.0\n",
      "z[1,2,1] = 1.0\n",
      "z[1,3,0] = 1.0\n",
      "z[1,4,1] = 1.0\n",
      "z[2,0,0] = 1.0\n",
      "z[2,0,1] = 1.0\n",
      "z[2,1,0] = 1.0\n",
      "z[2,1,1] = 1.0\n",
      "z[2,2,0] = 1.0\n",
      "z[2,2,1] = 1.0\n",
      "z[2,3,0] = 1.0\n",
      "z[2,3,1] = 1.0\n",
      "z[2,4,0] = 1.0\n",
      "z[2,4,1] = 1.0\n",
      "z[2,5,1] = 1.0\n",
      "z[3,0,0] = 1.0\n",
      "z[3,0,1] = 1.0\n",
      "z[3,1,0] = 1.0\n",
      "z[3,1,1] = 1.0\n",
      "z[3,2,0] = 1.0\n",
      "z[3,2,1] = 1.0\n",
      "z[3,3,0] = 1.0\n",
      "z[3,3,1] = 1.0\n",
      "z[3,4,0] = 1.0\n",
      "z[3,4,1] = 1.0\n",
      "z[3,5,0] = 1.0\n",
      "z[3,5,1] = 1.0\n",
      "z[4,0,0] = 1.0\n",
      "z[4,0,1] = 1.0\n",
      "z[4,1,0] = 1.0\n",
      "z[4,1,1] = 1.0\n",
      "z[4,2,0] = 1.0\n",
      "z[4,2,1] = 1.0\n",
      "z[4,3,0] = 1.0\n",
      "z[4,3,1] = 1.0\n",
      "z[4,4,0] = 1.0\n",
      "z[4,4,1] = 1.0\n",
      "z[4,5,0] = 1.0\n",
      "z[4,5,1] = 1.0\n",
      "z[5,0,0] = 1.0\n",
      "z[5,0,1] = 1.0\n",
      "z[5,1,0] = 1.0\n",
      "z[5,1,1] = 1.0\n",
      "z[5,2,0] = 1.0\n",
      "z[5,2,1] = 1.0\n",
      "z[5,3,0] = 1.0\n",
      "z[5,3,1] = 1.0\n",
      "z[5,4,0] = 1.0\n",
      "z[5,4,1] = 1.0\n",
      "z[5,5,0] = 1.0\n",
      "z[5,5,1] = 1.0\n",
      "z[6,0,0] = 1.0\n",
      "z[6,0,1] = 1.0\n",
      "z[6,1,0] = 1.0\n",
      "z[6,1,1] = 1.0\n",
      "z[6,2,0] = 1.0\n",
      "z[6,2,1] = 1.0\n",
      "z[6,3,0] = 1.0\n",
      "z[6,3,1] = 1.0\n",
      "z[6,4,0] = 1.0\n",
      "z[6,4,1] = 1.0\n",
      "z[6,5,0] = 1.0\n",
      "z[6,5,1] = 1.0\n",
      "z[7,0,1] = 1.0\n",
      "z[7,1,1] = 1.0\n",
      "z[7,2,1] = 1.0\n",
      "z[7,3,1] = 1.0\n",
      "z[7,4,1] = 1.0\n",
      "z[7,5,1] = 1.0\n",
      "z[8,0,1] = 1.0\n",
      "z[8,1,1] = 1.0\n",
      "z[8,2,1] = 1.0\n",
      "z[8,3,1] = 1.0\n",
      "z[8,4,1] = 1.0\n",
      "z[8,5,1] = 1.0\n",
      "z[9,0,1] = 1.0\n",
      "z[9,1,1] = 1.0\n",
      "z[9,2,1] = 1.0\n",
      "z[9,3,1] = 1.0\n",
      "z[9,4,1] = 1.0\n",
      "z[9,5,1] = 1.0\n",
      "z[10,0,1] = 1.0\n",
      "z[10,1,1] = 1.0\n",
      "z[10,2,1] = 1.0\n",
      "z[10,3,1] = 1.0\n",
      "z[10,4,1] = 1.0\n",
      "z[10,5,1] = 1.0\n",
      "z[11,0,1] = 1.0\n",
      "z[11,1,1] = 1.0\n",
      "z[11,2,1] = 1.0\n",
      "z[11,3,1] = 1.0\n",
      "z[11,4,1] = 1.0\n",
      "z[11,5,1] = 1.0\n",
      "z[12,0,1] = 1.0\n",
      "z[12,1,1] = 1.0\n",
      "z[12,2,1] = 1.0\n",
      "z[12,3,1] = 1.0\n",
      "z[12,4,1] = 1.0\n",
      "z[13,1,1] = 1.0\n",
      "z[13,2,1] = 1.0\n",
      "z[13,3,1] = 1.0\n",
      "z[14,2,1] = 1.0\n",
      "f[14,1] = 1.0\n",
      "c[1] = 10.0\n",
      "c_max = 10.0\n"
     ]
    }
   ],
   "source": [
    "for var in model.getVars():\n",
    "    if (var.X > 0):\n",
    "        print(f\"{var.VarName} = {var.X}\")"
   ]
  }
 ],
 "metadata": {
  "kernelspec": {
   "display_name": "base",
   "language": "python",
   "name": "python3"
  },
  "language_info": {
   "codemirror_mode": {
    "name": "ipython",
    "version": 3
   },
   "file_extension": ".py",
   "mimetype": "text/x-python",
   "name": "python",
   "nbconvert_exporter": "python",
   "pygments_lexer": "ipython3",
   "version": "3.9.13"
  },
  "vscode": {
   "interpreter": {
    "hash": "c90818a9e75c05a80397462c9eccb4fd29d99584fd06c16972c458369e729be9"
   }
  }
 },
 "nbformat": 4,
 "nbformat_minor": 5
}
