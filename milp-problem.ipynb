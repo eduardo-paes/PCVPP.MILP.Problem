{
 "cells": [
  {
   "cell_type": "code",
   "execution_count": 38,
   "id": "20074a1a-0396-42ef-822f-d4378f44f8a3",
   "metadata": {},
   "outputs": [],
   "source": [
    "# Imports\n",
    "import sys\n",
    "import gurobipy as gp\n",
    "import numpy as np"
   ]
  },
  {
   "cell_type": "code",
   "execution_count": 39,
   "id": "b9f05f4c-ab03-49af-aec4-f1165d4781e0",
   "metadata": {},
   "outputs": [],
   "source": [
    "# Parameters (Valus of Instance 1)\n",
    "NUM_VAGOES = 2\n",
    "NUM_TRECHOS = 6\n",
    "NUM_ATIVIDADES = 15\n",
    "NUM_TRENS = 2\n",
    "P = 5 # tempo de circulação de um vagão j em um trecho q\n",
    "M = 2880\n",
    "VAGOES_TREM_SAIDA = [2,2]\n",
    "VAGOES_TREM_CHEGADA = [1,1]"
   ]
  },
  {
   "cell_type": "code",
   "execution_count": 41,
   "id": "35256be1-0469-4ed9-965c-c11be6e2d414",
   "metadata": {},
   "outputs": [],
   "source": [
    "# Generate AMV\n",
    "# AMV[q,s] = 1 se o trecho q é ligado ao trecho s (q vizinho de s ou existe AMV entre q e s); 0 caso contrário\n",
    "AMV = [[1,1,0,0,0,0],[1,1,1,0,1,0],[0,1,1,1,0,0],[0,0,1,1,0,0],[0,1,0,0,1,1],[0,0,0,0,1,1]]"
   ]
  },
  {
   "cell_type": "code",
   "execution_count": 42,
   "id": "3d2d51e7-b2e7-42e7-b8a1-94885db0e1af",
   "metadata": {},
   "outputs": [],
   "source": [
    "# Generate PSA\n",
    "# PSA[j] = trecho do pátio onde o vagão j deverá estar posicionado para que o trem t ∈ Tβ |j ∈ t possa sair\n",
    "PSA = [1,2]"
   ]
  },
  {
   "cell_type": "code",
   "execution_count": 43,
   "id": "9f1d99cb-e3e7-47b5-ad09-48cd16da1732",
   "metadata": {},
   "outputs": [],
   "source": [
    "# Generate PCH\n",
    "# PCH[j] = trecho do pátio onde o vagão j estará posicionado ao receber o trem t ∈ Tα|j ∈ t\n",
    "PCH = [2,1]"
   ]
  },
  {
   "cell_type": "code",
   "execution_count": 44,
   "id": "1feb0da8-1fd6-4dd2-b12e-9195481ef246",
   "metadata": {},
   "outputs": [],
   "source": [
    "# Generate Release\n",
    "# RELEASE[j] = instante mais cedo que o vagão j está disponível para entrar no pátio (release date), ou seja, horário de chegada do trem t ∈ Tα|j ∈ t\n",
    "RELEASE = [10,10]"
   ]
  },
  {
   "cell_type": "code",
   "execution_count": 46,
   "id": "071c2eac-91ee-4d2d-85cd-129e5055449b",
   "metadata": {},
   "outputs": [],
   "source": [
    "# Auxiliary constants\n",
    "FIRST_OP = 1\n",
    "LAST_OP = NUM_ATIVIDADES - 1"
   ]
  },
  {
   "cell_type": "code",
   "execution_count": 47,
   "id": "2641e6fc-e818-487d-9e79-3bd55b3dd53e",
   "metadata": {},
   "outputs": [],
   "source": [
    "# Simplify instances informed values\n",
    "n = NUM_VAGOES\n",
    "m = NUM_TRECHOS\n",
    "o = NUM_ATIVIDADES\n",
    "v = NUM_TRENS\n",
    "ns = VAGOES_TREM_SAIDA\n",
    "nc = VAGOES_TREM_CHEGADA"
   ]
  },
  {
   "cell_type": "code",
   "execution_count": 48,
   "id": "74c33757-20e4-43bd-9e45-8230c0f60e75",
   "metadata": {},
   "outputs": [],
   "source": [
    "# Initialize model\n",
    "model = gp.Model(\"milp\")"
   ]
  },
  {
   "cell_type": "code",
   "execution_count": 49,
   "id": "77cca61e-830d-475b-ad57-9db9fd578fc5",
   "metadata": {},
   "outputs": [],
   "source": [
    "# Declare decision variables\n",
    "var_y = model.addVar(vtype=gp.GRB.CONTINUOUS, name=\"y\")          ## y[i,j] = instante de início da i-ésima operação do vagão j\n",
    "var_z = model.addVar(vtype=gp.GRB.BINARY, name=\"z\")              ## z[i,q,j] = 1 se a i-ésima operação do vagão j acontece no trecho q; 0 caso contrário\n",
    "var_x = model.addVar(vtype=gp.GRB.BINARY, name=\"x\")              ## x[q,i,j,k,l] = 1 se a i-ésima operação do vagão j precede a k-ésima operação do vagão l no trecho q; 0 caso contrário\n",
    "var_f = model.addVar(vtype=gp.GRB.BINARY, name=\"f\")              ## f[i,j] = 1 se a i-ésima operação do vagão j é a última, antes da partida do trem t ∈ Tβ |j ∈ t; 0 caso contrário\n",
    "var_c = model.addVar(vtype=gp.GRB.CONTINUOUS, name=\"c\")          ## C[j] = instante de conclusão do vagão j, horário de partida do trem t ∈ Tβ|j ∈ t\n",
    "var_c_max = model.addVar(vtype=gp.GRB.CONTINUOUS, name=\"c_max\")  ## Cmax = horário da partida do último vagão j ∈ t, t ∈ Tβ (makespan)"
   ]
  },
  {
   "cell_type": "code",
   "execution_count": 50,
   "id": "8eb2370a-fb8a-44d7-be90-8b2c2515b34f",
   "metadata": {},
   "outputs": [],
   "source": [
    "# Define objective function\n",
    "model.setObjective(var_c_max, gp.GRB.MINIMIZE)"
   ]
  },
  {
   "cell_type": "code",
   "execution_count": 72,
   "id": "f12ef3df-acd2-4574-8519-31cf79ab848d",
   "metadata": {},
   "outputs": [
    {
     "data": {
      "text/plain": [
       "<generator object <genexpr> at 0x7fe608fb5f20>"
      ]
     },
     "execution_count": 72,
     "metadata": {},
     "output_type": "execute_result"
    }
   ],
   "source": [
    "# C1\n",
    "c1 = model.addConstr\n",
    "(\n",
    "  (\n",
    "    var_y[i+1,j] >= var_y[i,j] \n",
    "    + ( P * gp.quicksum(var_x[i,q,j] for q in range(m)) )\n",
    "  )\n",
    "  for j in range(n) \n",
    "  for i in range(o)\n",
    "  # if i < o\n",
    ")"
   ]
  },
  {
   "cell_type": "code",
   "execution_count": 52,
   "id": "c130d33a-ed5b-41fc-af3b-590b9dbf64b0",
   "metadata": {},
   "outputs": [
    {
     "data": {
      "text/plain": [
       "<generator object <genexpr> at 0x7fe608fabdd0>"
      ]
     },
     "execution_count": 52,
     "metadata": {},
     "output_type": "execute_result"
    }
   ],
   "source": [
    "# C2\n",
    "c2 = model.addConstr\n",
    "(\n",
    "  (\n",
    "    var_y[i+1,j] \n",
    "    >= var_y[k,l]\n",
    "    - (M * var_x[q,i,j,k,l])\n",
    "    - (M * (1 - var_z[i,q,j]))\n",
    "    - (M * (1 - var_z[k,q,l]))\n",
    "  )\n",
    "  for j,l in range(n) \n",
    "  for k,i in range(o)\n",
    "  for q in range(m)\n",
    "  if i < o\n",
    ")"
   ]
  },
  {
   "cell_type": "code",
   "execution_count": 53,
   "id": "607fff69-9826-4c00-b86e-a2793b947d4f",
   "metadata": {},
   "outputs": [
    {
     "data": {
      "text/plain": [
       "<generator object <genexpr> at 0x7fe608fabf90>"
      ]
     },
     "execution_count": 53,
     "metadata": {},
     "output_type": "execute_result"
    }
   ],
   "source": [
    "# C3\n",
    "c3 = model.addConstr\n",
    "(\n",
    "  (\n",
    "    var_y[k,l] \n",
    "    >= var_y[i+1,j]\n",
    "    - (M * (1 - var_x[q,i,j,k,l]))\n",
    "    - (M * (1 - var_z[i,q,j]))\n",
    "    - (M * (1 - var_z[k,q,l]))\n",
    "  )\n",
    "  for j,l in range(n) \n",
    "  for k,i in range(o)\n",
    "  for q in range(m)\n",
    "  if i < o\n",
    ")"
   ]
  },
  {
   "cell_type": "code",
   "execution_count": 54,
   "id": "c4fc59f8-0647-4367-8138-f813a01c3249",
   "metadata": {},
   "outputs": [
    {
     "data": {
      "text/plain": [
       "<generator object <genexpr> at 0x7fe5f9f560b0>"
      ]
     },
     "execution_count": 54,
     "metadata": {},
     "output_type": "execute_result"
    }
   ],
   "source": [
    "# C4\n",
    "c4 = model.addConstr\n",
    "(\n",
    "  (\n",
    "    gp.quicksum(var_z[FIRST_OP,q,j] for q in range(m))\n",
    "    <= 1\n",
    "  )\n",
    "  for j in range(n) \n",
    "  # for i in range(o)\n",
    "  # if i == 1\n",
    ")"
   ]
  },
  {
   "cell_type": "code",
   "execution_count": 55,
   "id": "0c9dada2-6869-44ee-87d0-f8c0fbd47344",
   "metadata": {},
   "outputs": [
    {
     "data": {
      "text/plain": [
       "<generator object <genexpr> at 0x7fe5f9f56270>"
      ]
     },
     "execution_count": 55,
     "metadata": {},
     "output_type": "execute_result"
    }
   ],
   "source": [
    "# C5\n",
    "c5 = model.addConstr\n",
    "(\n",
    "  (\n",
    "    var_x[q,i,j,k,l] \n",
    "    + gp.quicksum(var_x[s,k-1,l,i+1,j] for s in range(m))\n",
    "    <= 1\n",
    "  )\n",
    "  for j,l in range(n) \n",
    "  for k,i in range(o)\n",
    "  for q in range(m)\n",
    "  if i < o and k > FIRST_OP and j != l\n",
    ")"
   ]
  },
  {
   "cell_type": "code",
   "execution_count": 56,
   "id": "1ec0cccf-e2fc-473d-bfd6-70cab2be6156",
   "metadata": {},
   "outputs": [
    {
     "data": {
      "text/plain": [
       "<generator object <genexpr> at 0x7fe608fb5120>"
      ]
     },
     "execution_count": 56,
     "metadata": {},
     "output_type": "execute_result"
    }
   ],
   "source": [
    "# C6\n",
    "c6 = model.addConstr\n",
    "(\n",
    "  (\n",
    "    var_x[q,i,j,k,l] \n",
    "    + var_x[q,k,l,i,j] \n",
    "    >= 1\n",
    "    - (M * (1 - var_z[i,q,j]))\n",
    "    - (M * (1 - var_z[k,q,l]))\n",
    "  )\n",
    "  for j,l in range(n) \n",
    "  for k,i in range(o)\n",
    "  for q in range(m)\n",
    "  if j != l\n",
    ")"
   ]
  },
  {
   "cell_type": "code",
   "execution_count": 57,
   "id": "0eb5481a-9b23-43a9-8e19-1b2f3ba7c6f0",
   "metadata": {},
   "outputs": [
    {
     "data": {
      "text/plain": [
       "<generator object <genexpr> at 0x7fe5f9f562e0>"
      ]
     },
     "execution_count": 57,
     "metadata": {},
     "output_type": "execute_result"
    }
   ],
   "source": [
    "# C7\n",
    "c7 = model.addConstr\n",
    "(\n",
    "  (\n",
    "    gp.quicksum(var_z[i,q,j] for q in range(m))\n",
    "    == 1\n",
    "    - gp.quicksum(var_f[k,j] for k in range(i-1))\n",
    "  )\n",
    "  for j in range(n) \n",
    "  for i in range(o)\n",
    "  if i > FIRST_OP\n",
    ")"
   ]
  },
  {
   "cell_type": "code",
   "execution_count": 58,
   "id": "8aeb6a13-087e-42c5-b29d-ee28da140901",
   "metadata": {},
   "outputs": [
    {
     "data": {
      "text/plain": [
       "<generator object <genexpr> at 0x7fe608fb5430>"
      ]
     },
     "execution_count": 58,
     "metadata": {},
     "output_type": "execute_result"
    }
   ],
   "source": [
    "# C8\n",
    "c8 = model.addConstr\n",
    "(\n",
    "  (\n",
    "   var_f[i,j]\n",
    "   <= var_z[i,PSA[j],j]\n",
    "  )\n",
    "  for j in ns\n",
    "  for i in range(o)\n",
    "  # for q in range(m)\n",
    "  # if q == PSA[j]\n",
    ")"
   ]
  },
  {
   "cell_type": "code",
   "execution_count": 59,
   "id": "e330b5e5-1981-4296-a70c-9f68995ec7c9",
   "metadata": {},
   "outputs": [
    {
     "data": {
      "text/plain": [
       "<generator object <genexpr> at 0x7fe608fb5510>"
      ]
     },
     "execution_count": 59,
     "metadata": {},
     "output_type": "execute_result"
    }
   ],
   "source": [
    "# C9\n",
    "c9 = model.addConstr\n",
    "(\n",
    "  (\n",
    "   gp.quicksum(var_f[i,j] for i in range(o))\n",
    "   == 1\n",
    "  )\n",
    "  for j in ns\n",
    ")"
   ]
  },
  {
   "cell_type": "code",
   "execution_count": 60,
   "id": "f25a906e-4356-487a-931f-9ef38f9aaded",
   "metadata": {},
   "outputs": [
    {
     "data": {
      "text/plain": [
       "<generator object <genexpr> at 0x7fe608fb5190>"
      ]
     },
     "execution_count": 60,
     "metadata": {},
     "output_type": "execute_result"
    }
   ],
   "source": [
    "# C10\n",
    "c10 = model.addConstr\n",
    "(\n",
    "  (\n",
    "   gp.quicksum(var_f[i,j] for i in range(o))\n",
    "   == 0\n",
    "  )\n",
    "  for j in nc\n",
    ")"
   ]
  },
  {
   "cell_type": "code",
   "execution_count": 61,
   "id": "4e622992-f31a-4d3d-a61f-79ed27fa1be6",
   "metadata": {},
   "outputs": [
    {
     "data": {
      "text/plain": [
       "<generator object <genexpr> at 0x7fe608fb54a0>"
      ]
     },
     "execution_count": 61,
     "metadata": {},
     "output_type": "execute_result"
    }
   ],
   "source": [
    "# C11\n",
    "c11 = model.addConstr\n",
    "(\n",
    "  (\n",
    "   var_z[FIRST_OP,PCH[j],j]\n",
    "   == 1\n",
    "  )\n",
    "  for j in range(n) \n",
    "  # for i in range(o) \n",
    "  # for q in range(m) \n",
    "  # if q == PCH[j] and i == 1\n",
    ")"
   ]
  },
  {
   "cell_type": "code",
   "execution_count": 62,
   "id": "b5b7daef-3f67-45ed-8698-ec4f6fee927d",
   "metadata": {},
   "outputs": [
    {
     "data": {
      "text/plain": [
       "<generator object <genexpr> at 0x7fe608fb57b0>"
      ]
     },
     "execution_count": 62,
     "metadata": {},
     "output_type": "execute_result"
    }
   ],
   "source": [
    "# C12\n",
    "c12 = model.addConstr\n",
    "(\n",
    "  (\n",
    "   var_y[FIRST_OP,j]\n",
    "   == RELEASE[j]\n",
    "  )\n",
    "  for j in ns\n",
    "  # for i in range(o) \n",
    "  # if i == 1\n",
    ")"
   ]
  },
  {
   "cell_type": "code",
   "execution_count": 63,
   "id": "7d2fcc3c-fb12-4023-9147-4b6d0306db19",
   "metadata": {},
   "outputs": [
    {
     "data": {
      "text/plain": [
       "<generator object <genexpr> at 0x7fe608fb5890>"
      ]
     },
     "execution_count": 63,
     "metadata": {},
     "output_type": "execute_result"
    }
   ],
   "source": [
    "# C13\n",
    "c13 = model.addConstr\n",
    "(\n",
    "  (\n",
    "   var_y[FIRST_OP,j]\n",
    "   >= RELEASE[j]\n",
    "  )\n",
    "  for j in ns \n",
    "  # for i in range(o) \n",
    "  # if i == 1\n",
    ")"
   ]
  },
  {
   "cell_type": "code",
   "execution_count": 64,
   "id": "5a3feca3-17c7-4cf9-9160-458e497780b5",
   "metadata": {},
   "outputs": [
    {
     "data": {
      "text/plain": [
       "<generator object <genexpr> at 0x7fe608fb5970>"
      ]
     },
     "execution_count": 64,
     "metadata": {},
     "output_type": "execute_result"
    }
   ],
   "source": [
    "# C14\n",
    "c14 = model.addConstr\n",
    "(\n",
    "  (\n",
    "   var_y[FIRST_OP,j]\n",
    "   == var_y[FIRST_OP,l]\n",
    "  )\n",
    "  for j,l in nc\n",
    "  # for i in range(o)\n",
    "  # if i == 1\n",
    ")"
   ]
  },
  {
   "cell_type": "code",
   "execution_count": 65,
   "id": "e82704ea-298e-4152-9d49-4aaded25ac60",
   "metadata": {},
   "outputs": [
    {
     "data": {
      "text/plain": [
       "<generator object <genexpr> at 0x7fe5f9f56ac0>"
      ]
     },
     "execution_count": 65,
     "metadata": {},
     "output_type": "execute_result"
    }
   ],
   "source": [
    "# C15\n",
    "c15 = model.addConstr\n",
    "(\n",
    "  (\n",
    "   var_z[i+1,q,j]\n",
    "   <= gp.quicksum(AMV[s,q] * var_z[i,s,j] for s in range(m))\n",
    "  )\n",
    "  for j in range(n) \n",
    "  for i in range(o)\n",
    "  for q in range(m)\n",
    "  # if i < o\n",
    ")"
   ]
  },
  {
   "cell_type": "code",
   "execution_count": 66,
   "id": "9c62ccb2-b4e9-4705-9242-636032bddda1",
   "metadata": {},
   "outputs": [
    {
     "data": {
      "text/plain": [
       "<generator object <genexpr> at 0x7fe608fb5a50>"
      ]
     },
     "execution_count": 66,
     "metadata": {},
     "output_type": "execute_result"
    }
   ],
   "source": [
    "# C16\n",
    "c16 = model.addConstr\n",
    "(\n",
    "  (\n",
    "   var_c[j]\n",
    "   >= var_y[i,l]\n",
    "  )\n",
    "  for j,l in ns\n",
    "  for i in range(o)\n",
    "  # if i < o\n",
    ")"
   ]
  },
  {
   "cell_type": "code",
   "execution_count": 67,
   "id": "765288a0-06fa-43d7-b0ae-21e3936c539b",
   "metadata": {},
   "outputs": [
    {
     "data": {
      "text/plain": [
       "<generator object <genexpr> at 0x7fe608fb5c10>"
      ]
     },
     "execution_count": 67,
     "metadata": {},
     "output_type": "execute_result"
    }
   ],
   "source": [
    "# C17\n",
    "c17 = model.addConstr\n",
    "(\n",
    "  (\n",
    "   var_c[j]\n",
    "   >= var_y[LAST_OP,j]\n",
    "  )\n",
    "  for j in nc \n",
    "  # for i in range(o)\n",
    "  # if i == o\n",
    ")"
   ]
  },
  {
   "cell_type": "code",
   "execution_count": 68,
   "id": "c774877f-42ae-431c-896c-db5925bcf1a3",
   "metadata": {},
   "outputs": [
    {
     "data": {
      "text/plain": [
       "<generator object <genexpr> at 0x7fe5f9f56f90>"
      ]
     },
     "execution_count": 68,
     "metadata": {},
     "output_type": "execute_result"
    }
   ],
   "source": [
    "# C18\n",
    "c18 = model.addConstr\n",
    "(\n",
    "  (\n",
    "   var_y[i+1,j]\n",
    "   >= var_c[j] \n",
    "   - M \n",
    "   * (1 - gp.quicksum(var_f[k,j] for k in range(i)))\n",
    "  )\n",
    "  for j in range(n) \n",
    "  for i in range(o)\n",
    "  # if i < o\n",
    ")"
   ]
  },
  {
   "cell_type": "code",
   "execution_count": 69,
   "id": "512affbb-3cb6-4f6b-bfb7-ec275e148732",
   "metadata": {},
   "outputs": [
    {
     "data": {
      "text/plain": [
       "<generator object <genexpr> at 0x7fe608fb5b30>"
      ]
     },
     "execution_count": 69,
     "metadata": {},
     "output_type": "execute_result"
    }
   ],
   "source": [
    "# C19\n",
    "c19 = model.addConstr\n",
    "(\n",
    "  (\n",
    "   var_c_max >= var_c[j]\n",
    "  )\n",
    "  for j in ns\n",
    ")"
   ]
  },
  {
   "cell_type": "code",
   "execution_count": 70,
   "id": "ebe28463-3428-471e-a62d-3bededc1a51a",
   "metadata": {},
   "outputs": [
    {
     "name": "stdout",
     "output_type": "stream",
     "text": [
      "Gurobi Optimizer version 9.5.2 build v9.5.2rc0 (mac64[rosetta2])\n",
      "Thread count: 8 physical cores, 8 logical processors, using up to 8 threads\n",
      "Optimize a model with 0 rows, 6 columns and 0 nonzeros\n",
      "Model fingerprint: 0x8293aa32\n",
      "Variable types: 3 continuous, 3 integer (3 binary)\n",
      "Coefficient statistics:\n",
      "  Matrix range     [0e+00, 0e+00]\n",
      "  Objective range  [1e+00, 1e+00]\n",
      "  Bounds range     [1e+00, 1e+00]\n",
      "  RHS range        [0e+00, 0e+00]\n",
      "Found heuristic solution: objective 0.0000000\n",
      "\n",
      "Explored 0 nodes (0 simplex iterations) in 0.01 seconds (0.00 work units)\n",
      "Thread count was 1 (of 8 available processors)\n",
      "\n",
      "Solution count 1: 0 \n",
      "\n",
      "Optimal solution found (tolerance 1.00e-04)\n",
      "Best objective 0.000000000000e+00, best bound 0.000000000000e+00, gap 0.0000%\n"
     ]
    }
   ],
   "source": [
    "# Execute model\n",
    "model.optimize()"
   ]
  }
 ],
 "metadata": {
  "kernelspec": {
   "display_name": "base",
   "language": "python",
   "name": "python3"
  },
  "language_info": {
   "codemirror_mode": {
    "name": "ipython",
    "version": 3
   },
   "file_extension": ".py",
   "mimetype": "text/x-python",
   "name": "python",
   "nbconvert_exporter": "python",
   "pygments_lexer": "ipython3",
   "version": "3.9.13"
  },
  "vscode": {
   "interpreter": {
    "hash": "c90818a9e75c05a80397462c9eccb4fd29d99584fd06c16972c458369e729be9"
   }
  }
 },
 "nbformat": 4,
 "nbformat_minor": 5
}
